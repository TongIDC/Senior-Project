{
 "cells": [
  {
   "cell_type": "code",
   "execution_count": 1,
   "metadata": {},
   "outputs": [],
   "source": [
    "import pandas as pd\n",
    "import datetime\n",
    "import requests\n",
    "import json"
   ]
  },
  {
   "cell_type": "code",
   "execution_count": 2,
   "metadata": {},
   "outputs": [],
   "source": [
    "def callApi(date):\n",
    "    key = \"2b423d0c90e52bb805ccf6af1f305d7c\"\n",
    "    latitude = \"13.8282\"\n",
    "    longitude = \"100.614\"\n",
    "    \n",
    "    url = \"https://api.darksky.net/forecast/{}/{},{}\".format(key, latitude, longitude) +\"?exclude=minutely,hourly,daily\"\n",
    "    \n",
    "    response = requests.get(url=url)\n",
    "    return response"
   ]
  },
  {
   "cell_type": "code",
   "execution_count": 3,
   "metadata": {},
   "outputs": [],
   "source": [
    "def write_json(filename, data):\n",
    "    with open(\"Testdate/\" + filename + \".json\", \"w\", encoding='utf-8') as fout:\n",
    "        fout.write(json.dumps(data))"
   ]
  },
  {
   "cell_type": "code",
   "execution_count": 8,
   "metadata": {},
   "outputs": [
    {
     "data": {
      "text/plain": [
       "datetime.datetime(2019, 4, 10, 18, 20, 30, 529367)"
      ]
     },
     "execution_count": 8,
     "metadata": {},
     "output_type": "execute_result"
    }
   ],
   "source": [
    "date = pd.datetime.now()\n",
    "onehour = date + datetime.timedelta(hours=1)\n",
    "onehour"
   ]
  },
  {
   "cell_type": "code",
   "execution_count": 9,
   "metadata": {},
   "outputs": [],
   "source": [
    "day_result = {}\n",
    "date = pd.datetime.now()\n",
    "onehour = date + datetime.timedelta(hours=1)\n",
    "while(date.hour != onehour.hour):\n",
    "    filename = date.strftime(\"%Y-%m-%d\") #change to Y-m-d because file will arrange better\n",
    "    minute = int(date.strftime(\"%M\"))\n",
    "    second = date.strftime(\"%S\")\n",
    "    if minute % 15 == 0 and second =='00':\n",
    "        result = callApi(date)\n",
    "        day_result.update({ date.strftime(\"%H:%M\"): result.json()})  #  key is time of the day\n",
    "        write_json(filename=filename, data=day_result)  #  filename is date\n",
    "    date = pd.datetime.now() #to update time"
   ]
  },
  {
   "cell_type": "code",
   "execution_count": 13,
   "metadata": {},
   "outputs": [],
   "source": [
    "day_result = {}\n",
    "date = pd.datetime.now()\n",
    "tomorrow = date + datetime.timedelta(days=1)\n",
    "while(date.day != tomorrow.day):\n",
    "    filename = date.strftime(\"%Y-%m-%d\") #change to Y-m-d because file will arrange better\n",
    "    minute = int(date.strftime(\"%M\"))\n",
    "    if minute % 15 == 0:\n",
    "        result = callApi(date)\n",
    "        day_result.update({ date.strftime(\"%H:%M\"): result.json()})  #  key is time of the day\n",
    "        write_json(filename=filename, data=day_result)  #  filename is date\n",
    "    date = pd.datetime.now() #to update time"
   ]
  },
  {
   "cell_type": "code",
   "execution_count": 14,
   "metadata": {},
   "outputs": [
    {
     "data": {
      "text/html": [
       "<div>\n",
       "<style scoped>\n",
       "    .dataframe tbody tr th:only-of-type {\n",
       "        vertical-align: middle;\n",
       "    }\n",
       "\n",
       "    .dataframe tbody tr th {\n",
       "        vertical-align: top;\n",
       "    }\n",
       "\n",
       "    .dataframe thead th {\n",
       "        text-align: right;\n",
       "    }\n",
       "</style>\n",
       "<table border=\"1\" class=\"dataframe\">\n",
       "  <thead>\n",
       "    <tr style=\"text-align: right;\">\n",
       "      <th></th>\n",
       "      <th>apparentTemperature</th>\n",
       "      <th>cloudCover</th>\n",
       "      <th>dewPoint</th>\n",
       "      <th>humidity</th>\n",
       "      <th>icon</th>\n",
       "      <th>ozone</th>\n",
       "      <th>precipIntensity</th>\n",
       "      <th>precipProbability</th>\n",
       "      <th>pressure</th>\n",
       "      <th>summary</th>\n",
       "      <th>temperature</th>\n",
       "      <th>time</th>\n",
       "      <th>uvIndex</th>\n",
       "      <th>visibility</th>\n",
       "      <th>windBearing</th>\n",
       "      <th>windGust</th>\n",
       "      <th>windSpeed</th>\n",
       "    </tr>\n",
       "  </thead>\n",
       "  <tbody>\n",
       "    <tr>\n",
       "      <th>01:44</th>\n",
       "      <td>96.78</td>\n",
       "      <td>0.33</td>\n",
       "      <td>77.67</td>\n",
       "      <td>0.78</td>\n",
       "      <td>partly-cloudy-night</td>\n",
       "      <td>263.38</td>\n",
       "      <td>0</td>\n",
       "      <td>0</td>\n",
       "      <td>1009.36</td>\n",
       "      <td>Humid and Partly Cloudy</td>\n",
       "      <td>85.28</td>\n",
       "      <td>1554835457</td>\n",
       "      <td>0</td>\n",
       "      <td>5.98</td>\n",
       "      <td>200</td>\n",
       "      <td>19.62</td>\n",
       "      <td>10.51</td>\n",
       "    </tr>\n",
       "    <tr>\n",
       "      <th>01:45</th>\n",
       "      <td>96.75</td>\n",
       "      <td>0.33</td>\n",
       "      <td>77.67</td>\n",
       "      <td>0.78</td>\n",
       "      <td>partly-cloudy-night</td>\n",
       "      <td>263.38</td>\n",
       "      <td>0</td>\n",
       "      <td>0</td>\n",
       "      <td>1009.36</td>\n",
       "      <td>Humid and Partly Cloudy</td>\n",
       "      <td>85.26</td>\n",
       "      <td>1554835524</td>\n",
       "      <td>0</td>\n",
       "      <td>5.98</td>\n",
       "      <td>200</td>\n",
       "      <td>19.6</td>\n",
       "      <td>10.5</td>\n",
       "    </tr>\n",
       "    <tr>\n",
       "      <th>01:46</th>\n",
       "      <td>96.95</td>\n",
       "      <td>0.29</td>\n",
       "      <td>77.49</td>\n",
       "      <td>0.77</td>\n",
       "      <td>partly-cloudy-night</td>\n",
       "      <td>263.59</td>\n",
       "      <td>0</td>\n",
       "      <td>0</td>\n",
       "      <td>1009.21</td>\n",
       "      <td>Humid and Partly Cloudy</td>\n",
       "      <td>85.5</td>\n",
       "      <td>1554835590</td>\n",
       "      <td>0</td>\n",
       "      <td>6.04</td>\n",
       "      <td>198</td>\n",
       "      <td>18.24</td>\n",
       "      <td>10.71</td>\n",
       "    </tr>\n",
       "  </tbody>\n",
       "</table>\n",
       "</div>"
      ],
      "text/plain": [
       "      apparentTemperature cloudCover dewPoint humidity                 icon  \\\n",
       "01:44               96.78       0.33    77.67     0.78  partly-cloudy-night   \n",
       "01:45               96.75       0.33    77.67     0.78  partly-cloudy-night   \n",
       "01:46               96.95       0.29    77.49     0.77  partly-cloudy-night   \n",
       "\n",
       "        ozone precipIntensity precipProbability pressure  \\\n",
       "01:44  263.38               0                 0  1009.36   \n",
       "01:45  263.38               0                 0  1009.36   \n",
       "01:46  263.59               0                 0  1009.21   \n",
       "\n",
       "                       summary temperature        time uvIndex visibility  \\\n",
       "01:44  Humid and Partly Cloudy       85.28  1554835457       0       5.98   \n",
       "01:45  Humid and Partly Cloudy       85.26  1554835524       0       5.98   \n",
       "01:46  Humid and Partly Cloudy        85.5  1554835590       0       6.04   \n",
       "\n",
       "      windBearing windGust windSpeed  \n",
       "01:44         200    19.62     10.51  \n",
       "01:45         200     19.6      10.5  \n",
       "01:46         198    18.24     10.71  "
      ]
     },
     "execution_count": 14,
     "metadata": {},
     "output_type": "execute_result"
    }
   ],
   "source": [
    "predict_date = '2019_04_10'\n",
    "path = \"Testdate/\"\n",
    "filename = predict_date.replace(\"_\",'-') + '.json'\n",
    "\n",
    "with open(path + filename, 'r', encoding='utf-8') as fin:\n",
    "    data_json = json.loads(fin.read())\n",
    "\n",
    "todayData = {time: data_json[time]['currently'] for time in data_json}\n",
    "todayData_DF = pd.DataFrame(todayData).T\n",
    "todayData_DF"
   ]
  },
  {
   "cell_type": "code",
   "execution_count": null,
   "metadata": {},
   "outputs": [],
   "source": []
  }
 ],
 "metadata": {
  "kernelspec": {
   "display_name": "Python 3",
   "language": "python",
   "name": "python3"
  },
  "language_info": {
   "codemirror_mode": {
    "name": "ipython",
    "version": 3
   },
   "file_extension": ".py",
   "mimetype": "text/x-python",
   "name": "python",
   "nbconvert_exporter": "python",
   "pygments_lexer": "ipython3",
   "version": "3.7.1"
  }
 },
 "nbformat": 4,
 "nbformat_minor": 2
}
