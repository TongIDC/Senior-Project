{
 "cells": [
  {
   "cell_type": "code",
   "execution_count": 1,
   "metadata": {},
   "outputs": [],
   "source": [
    "import pandas as pd\n",
    "import datetime\n",
    "import requests\n",
    "import json"
   ]
  },
  {
   "cell_type": "code",
   "execution_count": 2,
   "metadata": {},
   "outputs": [],
   "source": [
    "def callApi(date):\n",
    "    key = \"2b423d0c90e52bb805ccf6af1f305d7c\"\n",
    "    latitude = \"13.8282\"\n",
    "    longitude = \"100.614\"\n",
    "    \n",
    "    url = \"https://api.darksky.net/forecast/{}/{},{}\".format(key, latitude, longitude) +\"?exclude=currently,minutely,daily\"\n",
    "    \n",
    "    response = requests.get(url=url)\n",
    "    return response"
   ]
  },
  {
   "cell_type": "code",
   "execution_count": 3,
   "metadata": {},
   "outputs": [],
   "source": [
    "def write_json(filename, data):\n",
    "    with open(\"Testdate/\" + filename + \".json\", \"w\", encoding='utf-8') as fout:\n",
    "        fout.write(json.dumps(data))"
   ]
  },
  {
   "cell_type": "code",
   "execution_count": 8,
   "metadata": {},
   "outputs": [
    {
     "data": {
      "text/plain": [
       "datetime.datetime(2019, 4, 10, 18, 20, 30, 529367)"
      ]
     },
     "execution_count": 8,
     "metadata": {},
     "output_type": "execute_result"
    }
   ],
   "source": [
    "date = pd.datetime.now()\n",
    "onehour = date + datetime.timedelta(hours=1)\n",
    "onehour"
   ]
  },
  {
   "cell_type": "code",
   "execution_count": 9,
   "metadata": {},
   "outputs": [
    {
     "ename": "TypeError",
     "evalue": "Object of type 'method' is not JSON serializable",
     "output_type": "error",
     "traceback": [
      "\u001b[1;31m---------------------------------------------------------------------------\u001b[0m",
      "\u001b[1;31mTypeError\u001b[0m                                 Traceback (most recent call last)",
      "\u001b[1;32m<ipython-input-9-447b32b690cc>\u001b[0m in \u001b[0;36m<module>\u001b[1;34m\u001b[0m\n\u001b[0;32m      3\u001b[0m \u001b[0mresult\u001b[0m \u001b[1;33m=\u001b[0m \u001b[0mcallApi\u001b[0m\u001b[1;33m(\u001b[0m\u001b[0mdate\u001b[0m\u001b[1;33m)\u001b[0m\u001b[1;33m\u001b[0m\u001b[1;33m\u001b[0m\u001b[0m\n\u001b[0;32m      4\u001b[0m \u001b[0mresultjson\u001b[0m \u001b[1;33m=\u001b[0m \u001b[0mresult\u001b[0m\u001b[1;33m.\u001b[0m\u001b[0mjson\u001b[0m\u001b[1;33m\u001b[0m\u001b[1;33m\u001b[0m\u001b[0m\n\u001b[1;32m----> 5\u001b[1;33m \u001b[0mwrite_json\u001b[0m\u001b[1;33m(\u001b[0m\u001b[0mfilename\u001b[0m\u001b[1;33m=\u001b[0m\u001b[0mfilename\u001b[0m\u001b[1;33m,\u001b[0m \u001b[0mdata\u001b[0m\u001b[1;33m=\u001b[0m\u001b[0mresultjson\u001b[0m\u001b[1;33m)\u001b[0m  \u001b[1;31m#  filename is date\u001b[0m\u001b[1;33m\u001b[0m\u001b[1;33m\u001b[0m\u001b[0m\n\u001b[0m",
      "\u001b[1;32m<ipython-input-3-6b66fa67ba80>\u001b[0m in \u001b[0;36mwrite_json\u001b[1;34m(filename, data)\u001b[0m\n\u001b[0;32m      1\u001b[0m \u001b[1;32mdef\u001b[0m \u001b[0mwrite_json\u001b[0m\u001b[1;33m(\u001b[0m\u001b[0mfilename\u001b[0m\u001b[1;33m,\u001b[0m \u001b[0mdata\u001b[0m\u001b[1;33m)\u001b[0m\u001b[1;33m:\u001b[0m\u001b[1;33m\u001b[0m\u001b[1;33m\u001b[0m\u001b[0m\n\u001b[0;32m      2\u001b[0m     \u001b[1;32mwith\u001b[0m \u001b[0mopen\u001b[0m\u001b[1;33m(\u001b[0m\u001b[1;34m\"Testdate/\"\u001b[0m \u001b[1;33m+\u001b[0m \u001b[0mfilename\u001b[0m \u001b[1;33m+\u001b[0m \u001b[1;34m\".json\"\u001b[0m\u001b[1;33m,\u001b[0m \u001b[1;34m\"w\"\u001b[0m\u001b[1;33m,\u001b[0m \u001b[0mencoding\u001b[0m\u001b[1;33m=\u001b[0m\u001b[1;34m'utf-8'\u001b[0m\u001b[1;33m)\u001b[0m \u001b[1;32mas\u001b[0m \u001b[0mfout\u001b[0m\u001b[1;33m:\u001b[0m\u001b[1;33m\u001b[0m\u001b[1;33m\u001b[0m\u001b[0m\n\u001b[1;32m----> 3\u001b[1;33m         \u001b[0mfout\u001b[0m\u001b[1;33m.\u001b[0m\u001b[0mwrite\u001b[0m\u001b[1;33m(\u001b[0m\u001b[0mjson\u001b[0m\u001b[1;33m.\u001b[0m\u001b[0mdumps\u001b[0m\u001b[1;33m(\u001b[0m\u001b[0mdata\u001b[0m\u001b[1;33m)\u001b[0m\u001b[1;33m)\u001b[0m\u001b[1;33m\u001b[0m\u001b[1;33m\u001b[0m\u001b[0m\n\u001b[0m",
      "\u001b[1;32m~\\Anaconda3\\lib\\json\\__init__.py\u001b[0m in \u001b[0;36mdumps\u001b[1;34m(obj, skipkeys, ensure_ascii, check_circular, allow_nan, cls, indent, separators, default, sort_keys, **kw)\u001b[0m\n\u001b[0;32m    229\u001b[0m         \u001b[0mcls\u001b[0m \u001b[1;32mis\u001b[0m \u001b[1;32mNone\u001b[0m \u001b[1;32mand\u001b[0m \u001b[0mindent\u001b[0m \u001b[1;32mis\u001b[0m \u001b[1;32mNone\u001b[0m \u001b[1;32mand\u001b[0m \u001b[0mseparators\u001b[0m \u001b[1;32mis\u001b[0m \u001b[1;32mNone\u001b[0m \u001b[1;32mand\u001b[0m\u001b[1;33m\u001b[0m\u001b[1;33m\u001b[0m\u001b[0m\n\u001b[0;32m    230\u001b[0m         default is None and not sort_keys and not kw):\n\u001b[1;32m--> 231\u001b[1;33m         \u001b[1;32mreturn\u001b[0m \u001b[0m_default_encoder\u001b[0m\u001b[1;33m.\u001b[0m\u001b[0mencode\u001b[0m\u001b[1;33m(\u001b[0m\u001b[0mobj\u001b[0m\u001b[1;33m)\u001b[0m\u001b[1;33m\u001b[0m\u001b[1;33m\u001b[0m\u001b[0m\n\u001b[0m\u001b[0;32m    232\u001b[0m     \u001b[1;32mif\u001b[0m \u001b[0mcls\u001b[0m \u001b[1;32mis\u001b[0m \u001b[1;32mNone\u001b[0m\u001b[1;33m:\u001b[0m\u001b[1;33m\u001b[0m\u001b[1;33m\u001b[0m\u001b[0m\n\u001b[0;32m    233\u001b[0m         \u001b[0mcls\u001b[0m \u001b[1;33m=\u001b[0m \u001b[0mJSONEncoder\u001b[0m\u001b[1;33m\u001b[0m\u001b[1;33m\u001b[0m\u001b[0m\n",
      "\u001b[1;32m~\\Anaconda3\\lib\\json\\encoder.py\u001b[0m in \u001b[0;36mencode\u001b[1;34m(self, o)\u001b[0m\n\u001b[0;32m    197\u001b[0m         \u001b[1;31m# exceptions aren't as detailed.  The list call should be roughly\u001b[0m\u001b[1;33m\u001b[0m\u001b[1;33m\u001b[0m\u001b[1;33m\u001b[0m\u001b[0m\n\u001b[0;32m    198\u001b[0m         \u001b[1;31m# equivalent to the PySequence_Fast that ''.join() would do.\u001b[0m\u001b[1;33m\u001b[0m\u001b[1;33m\u001b[0m\u001b[1;33m\u001b[0m\u001b[0m\n\u001b[1;32m--> 199\u001b[1;33m         \u001b[0mchunks\u001b[0m \u001b[1;33m=\u001b[0m \u001b[0mself\u001b[0m\u001b[1;33m.\u001b[0m\u001b[0miterencode\u001b[0m\u001b[1;33m(\u001b[0m\u001b[0mo\u001b[0m\u001b[1;33m,\u001b[0m \u001b[0m_one_shot\u001b[0m\u001b[1;33m=\u001b[0m\u001b[1;32mTrue\u001b[0m\u001b[1;33m)\u001b[0m\u001b[1;33m\u001b[0m\u001b[1;33m\u001b[0m\u001b[0m\n\u001b[0m\u001b[0;32m    200\u001b[0m         \u001b[1;32mif\u001b[0m \u001b[1;32mnot\u001b[0m \u001b[0misinstance\u001b[0m\u001b[1;33m(\u001b[0m\u001b[0mchunks\u001b[0m\u001b[1;33m,\u001b[0m \u001b[1;33m(\u001b[0m\u001b[0mlist\u001b[0m\u001b[1;33m,\u001b[0m \u001b[0mtuple\u001b[0m\u001b[1;33m)\u001b[0m\u001b[1;33m)\u001b[0m\u001b[1;33m:\u001b[0m\u001b[1;33m\u001b[0m\u001b[1;33m\u001b[0m\u001b[0m\n\u001b[0;32m    201\u001b[0m             \u001b[0mchunks\u001b[0m \u001b[1;33m=\u001b[0m \u001b[0mlist\u001b[0m\u001b[1;33m(\u001b[0m\u001b[0mchunks\u001b[0m\u001b[1;33m)\u001b[0m\u001b[1;33m\u001b[0m\u001b[1;33m\u001b[0m\u001b[0m\n",
      "\u001b[1;32m~\\Anaconda3\\lib\\json\\encoder.py\u001b[0m in \u001b[0;36miterencode\u001b[1;34m(self, o, _one_shot)\u001b[0m\n\u001b[0;32m    255\u001b[0m                 \u001b[0mself\u001b[0m\u001b[1;33m.\u001b[0m\u001b[0mkey_separator\u001b[0m\u001b[1;33m,\u001b[0m \u001b[0mself\u001b[0m\u001b[1;33m.\u001b[0m\u001b[0mitem_separator\u001b[0m\u001b[1;33m,\u001b[0m \u001b[0mself\u001b[0m\u001b[1;33m.\u001b[0m\u001b[0msort_keys\u001b[0m\u001b[1;33m,\u001b[0m\u001b[1;33m\u001b[0m\u001b[1;33m\u001b[0m\u001b[0m\n\u001b[0;32m    256\u001b[0m                 self.skipkeys, _one_shot)\n\u001b[1;32m--> 257\u001b[1;33m         \u001b[1;32mreturn\u001b[0m \u001b[0m_iterencode\u001b[0m\u001b[1;33m(\u001b[0m\u001b[0mo\u001b[0m\u001b[1;33m,\u001b[0m \u001b[1;36m0\u001b[0m\u001b[1;33m)\u001b[0m\u001b[1;33m\u001b[0m\u001b[1;33m\u001b[0m\u001b[0m\n\u001b[0m\u001b[0;32m    258\u001b[0m \u001b[1;33m\u001b[0m\u001b[0m\n\u001b[0;32m    259\u001b[0m def _make_iterencode(markers, _default, _encoder, _indent, _floatstr,\n",
      "\u001b[1;32m~\\Anaconda3\\lib\\json\\encoder.py\u001b[0m in \u001b[0;36mdefault\u001b[1;34m(self, o)\u001b[0m\n\u001b[0;32m    178\u001b[0m         \"\"\"\n\u001b[0;32m    179\u001b[0m         raise TypeError(\"Object of type '%s' is not JSON serializable\" %\n\u001b[1;32m--> 180\u001b[1;33m                         o.__class__.__name__)\n\u001b[0m\u001b[0;32m    181\u001b[0m \u001b[1;33m\u001b[0m\u001b[0m\n\u001b[0;32m    182\u001b[0m     \u001b[1;32mdef\u001b[0m \u001b[0mencode\u001b[0m\u001b[1;33m(\u001b[0m\u001b[0mself\u001b[0m\u001b[1;33m,\u001b[0m \u001b[0mo\u001b[0m\u001b[1;33m)\u001b[0m\u001b[1;33m:\u001b[0m\u001b[1;33m\u001b[0m\u001b[1;33m\u001b[0m\u001b[0m\n",
      "\u001b[1;31mTypeError\u001b[0m: Object of type 'method' is not JSON serializable"
     ]
    }
   ],
   "source": [
    "date = pd.datetime.now()\n",
    "filename = date.strftime(\"%Y-%m-%d\") #change to Y-m-d because file will arrange better\n",
    "result = callApi(date)\n",
    "write_json(filename=filename, data=resultjson)  #  filename is date"
   ]
  },
  {
   "cell_type": "code",
   "execution_count": 13,
   "metadata": {},
   "outputs": [],
   "source": [
    "day_result = {}\n",
    "date = pd.datetime.now()\n",
    "tomorrow = date + datetime.timedelta(days=1)\n",
    "while(date.day != tomorrow.day):\n",
    "    filename = date.strftime(\"%Y-%m-%d\") #change to Y-m-d because file will arrange better\n",
    "    minute = int(date.strftime(\"%M\"))\n",
    "    if minute % 15 == 0:\n",
    "        result = callApi(date)\n",
    "        day_result.update({ date.strftime(\"%H:%M\"): result.json()})  #  key is time of the day\n",
    "        write_json(filename=filename, data=day_result)  #  filename is date\n",
    "    date = pd.datetime.now() #to update time"
   ]
  },
  {
   "cell_type": "code",
   "execution_count": 14,
   "metadata": {},
   "outputs": [
    {
     "data": {
      "text/html": [
       "<div>\n",
       "<style scoped>\n",
       "    .dataframe tbody tr th:only-of-type {\n",
       "        vertical-align: middle;\n",
       "    }\n",
       "\n",
       "    .dataframe tbody tr th {\n",
       "        vertical-align: top;\n",
       "    }\n",
       "\n",
       "    .dataframe thead th {\n",
       "        text-align: right;\n",
       "    }\n",
       "</style>\n",
       "<table border=\"1\" class=\"dataframe\">\n",
       "  <thead>\n",
       "    <tr style=\"text-align: right;\">\n",
       "      <th></th>\n",
       "      <th>apparentTemperature</th>\n",
       "      <th>cloudCover</th>\n",
       "      <th>dewPoint</th>\n",
       "      <th>humidity</th>\n",
       "      <th>icon</th>\n",
       "      <th>ozone</th>\n",
       "      <th>precipIntensity</th>\n",
       "      <th>precipProbability</th>\n",
       "      <th>pressure</th>\n",
       "      <th>summary</th>\n",
       "      <th>temperature</th>\n",
       "      <th>time</th>\n",
       "      <th>uvIndex</th>\n",
       "      <th>visibility</th>\n",
       "      <th>windBearing</th>\n",
       "      <th>windGust</th>\n",
       "      <th>windSpeed</th>\n",
       "    </tr>\n",
       "  </thead>\n",
       "  <tbody>\n",
       "    <tr>\n",
       "      <th>01:44</th>\n",
       "      <td>96.78</td>\n",
       "      <td>0.33</td>\n",
       "      <td>77.67</td>\n",
       "      <td>0.78</td>\n",
       "      <td>partly-cloudy-night</td>\n",
       "      <td>263.38</td>\n",
       "      <td>0</td>\n",
       "      <td>0</td>\n",
       "      <td>1009.36</td>\n",
       "      <td>Humid and Partly Cloudy</td>\n",
       "      <td>85.28</td>\n",
       "      <td>1554835457</td>\n",
       "      <td>0</td>\n",
       "      <td>5.98</td>\n",
       "      <td>200</td>\n",
       "      <td>19.62</td>\n",
       "      <td>10.51</td>\n",
       "    </tr>\n",
       "    <tr>\n",
       "      <th>01:45</th>\n",
       "      <td>96.75</td>\n",
       "      <td>0.33</td>\n",
       "      <td>77.67</td>\n",
       "      <td>0.78</td>\n",
       "      <td>partly-cloudy-night</td>\n",
       "      <td>263.38</td>\n",
       "      <td>0</td>\n",
       "      <td>0</td>\n",
       "      <td>1009.36</td>\n",
       "      <td>Humid and Partly Cloudy</td>\n",
       "      <td>85.26</td>\n",
       "      <td>1554835524</td>\n",
       "      <td>0</td>\n",
       "      <td>5.98</td>\n",
       "      <td>200</td>\n",
       "      <td>19.6</td>\n",
       "      <td>10.5</td>\n",
       "    </tr>\n",
       "    <tr>\n",
       "      <th>01:46</th>\n",
       "      <td>96.95</td>\n",
       "      <td>0.29</td>\n",
       "      <td>77.49</td>\n",
       "      <td>0.77</td>\n",
       "      <td>partly-cloudy-night</td>\n",
       "      <td>263.59</td>\n",
       "      <td>0</td>\n",
       "      <td>0</td>\n",
       "      <td>1009.21</td>\n",
       "      <td>Humid and Partly Cloudy</td>\n",
       "      <td>85.5</td>\n",
       "      <td>1554835590</td>\n",
       "      <td>0</td>\n",
       "      <td>6.04</td>\n",
       "      <td>198</td>\n",
       "      <td>18.24</td>\n",
       "      <td>10.71</td>\n",
       "    </tr>\n",
       "  </tbody>\n",
       "</table>\n",
       "</div>"
      ],
      "text/plain": [
       "      apparentTemperature cloudCover dewPoint humidity                 icon  \\\n",
       "01:44               96.78       0.33    77.67     0.78  partly-cloudy-night   \n",
       "01:45               96.75       0.33    77.67     0.78  partly-cloudy-night   \n",
       "01:46               96.95       0.29    77.49     0.77  partly-cloudy-night   \n",
       "\n",
       "        ozone precipIntensity precipProbability pressure  \\\n",
       "01:44  263.38               0                 0  1009.36   \n",
       "01:45  263.38               0                 0  1009.36   \n",
       "01:46  263.59               0                 0  1009.21   \n",
       "\n",
       "                       summary temperature        time uvIndex visibility  \\\n",
       "01:44  Humid and Partly Cloudy       85.28  1554835457       0       5.98   \n",
       "01:45  Humid and Partly Cloudy       85.26  1554835524       0       5.98   \n",
       "01:46  Humid and Partly Cloudy        85.5  1554835590       0       6.04   \n",
       "\n",
       "      windBearing windGust windSpeed  \n",
       "01:44         200    19.62     10.51  \n",
       "01:45         200     19.6      10.5  \n",
       "01:46         198    18.24     10.71  "
      ]
     },
     "execution_count": 14,
     "metadata": {},
     "output_type": "execute_result"
    }
   ],
   "source": [
    "predict_date = '2019_04_10'\n",
    "path = \"Testdate/\"\n",
    "filename = predict_date.replace(\"_\",'-') + '.json'\n",
    "\n",
    "with open(path + filename, 'r', encoding='utf-8') as fin:\n",
    "    data_json = json.loads(fin.read())\n",
    "\n",
    "todayData = {time: data_json[time]['currently'] for time in data_json}\n",
    "todayData_DF = pd.DataFrame(todayData).T\n",
    "todayData_DF"
   ]
  },
  {
   "cell_type": "code",
   "execution_count": 10,
   "metadata": {},
   "outputs": [
    {
     "data": {
      "text/plain": [
       "'https://api.darksky.net/forecast/2b423d0c90e52bb805ccf6af1f305d7c/13.8282,100.614?exclude=currently,minutely,daily'"
      ]
     },
     "execution_count": 10,
     "metadata": {},
     "output_type": "execute_result"
    }
   ],
   "source": [
    "key = \"2b423d0c90e52bb805ccf6af1f305d7c\"\n",
    "latitude = \"13.8282\"\n",
    "longitude = \"100.614\"\n",
    "    \n",
    "url = \"https://api.darksky.net/forecast/{}/{},{}\".format(key, latitude, longitude) +\"?exclude=currently,minutely,daily\"\n",
    "url"
   ]
  },
  {
   "cell_type": "code",
   "execution_count": 21,
   "metadata": {},
   "outputs": [
    {
     "data": {
      "text/plain": [
       "'{\"latitude\":13.8282,\"longitude\":100.614,\"timezone\":\"Asia/Bangkok\",\"hourly\":{\"summary\":\"Humid throughout the day and partly cloudy tonight.\",\"icon\":\"partly-cloudy-night\",\"data\":[{\"time\":1554987600,\"summary\":\"Humid\",\"icon\":\"clear-night\",\"precipIntensity\":0,\"precipProbability\":0,\"temperature\":87.22,\"apparentTemperature\":100.36,\"dewPoint\":77.98,\"humidity\":0.74,\"pressure\":1006.73,\"windSpeed\":9.97,\"windGust\":19.04,\"windBearing\":185,\"cloudCover\":0,\"uvIndex\":0,\"visibility\":5.23,\"ozone\":263.62},{\"time\":1554991200,\"summary\":\"Humid\",\"icon\":\"clear-night\",\"precipIntensity\":0,\"precipProbability\":0,\"temperature\":86.26,\"apparentTemperature\":100.52,\"dewPoint\":79.28,\"humidity\":0.8,\"pressure\":1007.4,\"windSpeed\":10.6,\"windGust\":20.65,\"windBearing\":184,\"cloudCover\":0.16,\"uvIndex\":0,\"visibility\":6.24,\"ozone\":263.24},{\"time\":1554994800,\"summary\":\"Humid\",\"icon\":\"clear-night\",\"precipIntensity\":0,\"precipProbability\":0,\"temperature\":86.2,\"apparentTemperature\":96.63,\"dewPoint\":76.23,\"humidity\":0.72,\"pressure\":1007.92,\"windSpeed\":11.57,\"windGust\":21.64,\"windBearing\":180,\"cloudCover\":0.24,\"uvIndex\":0,\"visibility\":10,\"ozone\":262.89},{\"time\":1554998400,\"summary\":\"Humid and Partly Cloudy\",\"icon\":\"partly-cloudy-night\",\"precipIntensity\":0,\"precipProbability\":0,\"temperature\":86.19,\"apparentTemperature\":94.29,\"dewPoint\":73.98,\"humidity\":0.67,\"pressure\":1008.09,\"windSpeed\":11.81,\"windGust\":21.82,\"windBearing\":179,\"cloudCover\":0.31,\"uvIndex\":0,\"visibility\":10,\"ozone\":262.63},{\"time\":1555002000,\"summary\":\"Humid and Mostly Cloudy\",\"icon\":\"partly-cloudy-night\",\"precipIntensity\":0,\"precipProbability\":0,\"temperature\":85.63,\"apparentTemperature\":93.89,\"dewPoint\":74.4,\"humidity\":0.69,\"pressure\":1007.84,\"windSpeed\":11.34,\"windGust\":21.39,\"windBearing\":179,\"cloudCover\":0.65,\"uvIndex\":0,\"visibility\":10,\"ozone\":262.38},{\"time\":1555005600,\"summary\":\"Humid and Partly Cloudy\",\"icon\":\"partly-cloudy-night\",\"precipIntensity\":0,\"precipProbability\":0,\"temperature\":85.26,\"apparentTemperature\":93.7,\"dewPoint\":74.76,\"humidity\":0.71,\"pressure\":1007.57,\"windSpeed\":10.68,\"windGust\":20.58,\"windBearing\":178,\"cloudCover\":0.43,\"uvIndex\":0,\"visibility\":10,\"ozone\":262.19},{\"time\":1555009200,\"summary\":\"Humid and Partly Cloudy\",\"icon\":\"partly-cloudy-night\",\"precipIntensity\":0,\"precipProbability\":0,\"temperature\":84.65,\"apparentTemperature\":93.18,\"dewPoint\":75.2,\"humidity\":0.73,\"pressure\":1007.05,\"windSpeed\":10.02,\"windGust\":19.25,\"windBearing\":175,\"cloudCover\":0.53,\"uvIndex\":0,\"visibility\":10,\"ozone\":261.96},{\"time\":1555012800,\"summary\":\"Humid\",\"icon\":\"clear-night\",\"precipIntensity\":0,\"precipProbability\":0,\"temperature\":84.1,\"apparentTemperature\":92.66,\"dewPoint\":75.59,\"humidity\":0.76,\"pressure\":1006.74,\"windSpeed\":9.53,\"windGust\":17.55,\"windBearing\":171,\"cloudCover\":0.18,\"uvIndex\":0,\"visibility\":10,\"ozone\":261.65},{\"time\":1555016400,\"summary\":\"Humid and Partly Cloudy\",\"icon\":\"partly-cloudy-night\",\"precipIntensity\":0,\"precipProbability\":0,\"temperature\":83.25,\"apparentTemperature\":91.51,\"dewPoint\":75.9,\"humidity\":0.79,\"pressure\":1006.7,\"windSpeed\":9.31,\"windGust\":16.18,\"windBearing\":168,\"cloudCover\":0.3,\"uvIndex\":0,\"visibility\":10,\"ozone\":261.62},{\"time\":1555020000,\"summary\":\"Humid\",\"icon\":\"clear-night\",\"precipIntensity\":0,\"precipProbability\":0,\"temperature\":82.79,\"apparentTemperature\":90.95,\"dewPoint\":76.19,\"humidity\":0.81,\"pressure\":1007.21,\"windSpeed\":9.24,\"windGust\":15.63,\"windBearing\":166,\"cloudCover\":0.16,\"uvIndex\":0,\"visibility\":10,\"ozone\":261.88},{\"time\":1555023600,\"summary\":\"Humid\",\"icon\":\"clear-night\",\"precipIntensity\":0,\"precipProbability\":0,\"temperature\":82.58,\"apparentTemperature\":90.7,\"dewPoint\":76.37,\"humidity\":0.82,\"pressure\":1007.86,\"windSpeed\":9.05,\"windGust\":15.4,\"windBearing\":165,\"cloudCover\":0.14,\"uvIndex\":0,\"visibility\":10,\"ozone\":262.39},{\"time\":1555027200,\"summary\":\"Humid\",\"icon\":\"clear-day\",\"precipIntensity\":0,\"precipProbability\":0,\"temperature\":83.14,\"apparentTemperature\":91.58,\"dewPoint\":76.21,\"humidity\":0.8,\"pressure\":1008.63,\"windSpeed\":9.05,\"windGust\":14.82,\"windBearing\":166,\"cloudCover\":0.23,\"uvIndex\":0,\"visibility\":10,\"ozone\":262.75},{\"time\":1555030800,\"summary\":\"Humid\",\"icon\":\"clear-day\",\"precipIntensity\":0,\"precipProbability\":0,\"temperature\":85.57,\"apparentTemperature\":94.81,\"dewPoint\":75.43,\"humidity\":0.72,\"pressure\":1009.38,\"windSpeed\":9.72,\"windGust\":13.41,\"windBearing\":172,\"cloudCover\":0.24,\"uvIndex\":2,\"visibility\":10,\"ozone\":262.75},{\"time\":1555034400,\"summary\":\"Humid\",\"icon\":\"clear-day\",\"precipIntensity\":0,\"precipProbability\":0,\"temperature\":88.84,\"apparentTemperature\":98.12,\"dewPoint\":74.19,\"humidity\":0.62,\"pressure\":1009.82,\"windSpeed\":10.16,\"windGust\":11.66,\"windBearing\":180,\"cloudCover\":0.17,\"uvIndex\":5,\"visibility\":10,\"ozone\":262.66},{\"time\":1555038000,\"summary\":\"Humid\",\"icon\":\"clear-day\",\"precipIntensity\":0,\"precipProbability\":0,\"temperature\":91.32,\"apparentTemperature\":99.89,\"dewPoint\":72.86,\"humidity\":0.55,\"pressure\":1009.87,\"windSpeed\":10.6,\"windGust\":10.65,\"windBearing\":183,\"cloudCover\":0.17,\"uvIndex\":8,\"visibility\":10,\"ozone\":262.54},{\"time\":1555041600,\"summary\":\"Clear\",\"icon\":\"clear-day\",\"precipIntensity\":0,\"precipProbability\":0,\"temperature\":93.17,\"apparentTemperature\":100.79,\"dewPoint\":71.46,\"humidity\":0.5,\"pressure\":1009.58,\"windSpeed\":11.17,\"windGust\":11.19,\"windBearing\":187,\"cloudCover\":0.07,\"uvIndex\":11,\"visibility\":10,\"ozone\":262.43},{\"time\":1555045200,\"summary\":\"Clear\",\"icon\":\"clear-day\",\"precipIntensity\":0,\"precipProbability\":0,\"temperature\":95.02,\"apparentTemperature\":101.62,\"dewPoint\":69.96,\"humidity\":0.45,\"pressure\":1008.92,\"windSpeed\":11.77,\"windGust\":11.84,\"windBearing\":188,\"cloudCover\":0.05,\"uvIndex\":13,\"visibility\":10,\"ozone\":262.25},{\"time\":1555048800,\"summary\":\"Clear\",\"icon\":\"clear-day\",\"precipIntensity\":0,\"precipProbability\":0,\"temperature\":96.11,\"apparentTemperature\":101.83,\"dewPoint\":68.69,\"humidity\":0.41,\"pressure\":1007.9,\"windSpeed\":12.2,\"windGust\":12.3,\"windBearing\":188,\"cloudCover\":0.05,\"uvIndex\":13,\"visibility\":10,\"ozone\":261.97},{\"time\":1555052400,\"summary\":\"Clear\",\"icon\":\"clear-day\",\"precipIntensity\":0,\"precipProbability\":0,\"temperature\":96.65,\"apparentTemperature\":101.63,\"dewPoint\":67.66,\"humidity\":0.39,\"pressure\":1006.78,\"windSpeed\":12.39,\"windGust\":12.51,\"windBearing\":188,\"cloudCover\":0.07,\"uvIndex\":10,\"visibility\":10,\"ozone\":261.54},{\"time\":1555056000,\"summary\":\"Clear\",\"icon\":\"clear-day\",\"precipIntensity\":0,\"precipProbability\":0,\"temperature\":96.39,\"apparentTemperature\":100.66,\"dewPoint\":66.85,\"humidity\":0.38,\"pressure\":1005.83,\"windSpeed\":12.55,\"windGust\":12.69,\"windBearing\":186,\"cloudCover\":0.09,\"uvIndex\":7,\"visibility\":10,\"ozone\":260.97},{\"time\":1555059600,\"summary\":\"Clear\",\"icon\":\"clear-day\",\"precipIntensity\":0,\"precipProbability\":0,\"temperature\":95.83,\"apparentTemperature\":99.73,\"dewPoint\":66.49,\"humidity\":0.39,\"pressure\":1005.33,\"windSpeed\":12.65,\"windGust\":12.89,\"windBearing\":184,\"cloudCover\":0.1,\"uvIndex\":4,\"visibility\":10,\"ozone\":260.5},{\"time\":1555063200,\"summary\":\"Clear\",\"icon\":\"clear-day\",\"precipIntensity\":0,\"precipProbability\":0,\"temperature\":94.83,\"apparentTemperature\":98.73,\"dewPoint\":66.77,\"humidity\":0.4,\"pressure\":1005.33,\"windSpeed\":12.52,\"windGust\":13.94,\"windBearing\":182,\"cloudCover\":0.11,\"uvIndex\":1,\"visibility\":10,\"ozone\":260.22},{\"time\":1555066800,\"summary\":\"Clear\",\"icon\":\"clear-day\",\"precipIntensity\":0,\"precipProbability\":0,\"temperature\":92.89,\"apparentTemperature\":97,\"dewPoint\":67.53,\"humidity\":0.44,\"pressure\":1005.78,\"windSpeed\":12.3,\"windGust\":16.86,\"windBearing\":180,\"cloudCover\":0.1,\"uvIndex\":0,\"visibility\":10,\"ozone\":260.16},{\"time\":1555070400,\"summary\":\"Clear\",\"icon\":\"clear-night\",\"precipIntensity\":0,\"precipProbability\":0,\"temperature\":90.74,\"apparentTemperature\":95.23,\"dewPoint\":68.52,\"humidity\":0.48,\"pressure\":1006.27,\"windSpeed\":11.94,\"windGust\":19.45,\"windBearing\":177,\"cloudCover\":0.1,\"uvIndex\":0,\"visibility\":10,\"ozone\":260.13},{\"time\":1555074000,\"summary\":\"Clear\",\"icon\":\"clear-night\",\"precipIntensity\":0,\"precipProbability\":0,\"temperature\":89.42,\"apparentTemperature\":94.67,\"dewPoint\":69.79,\"humidity\":0.53,\"pressure\":1006.89,\"windSpeed\":11.92,\"windGust\":20.83,\"windBearing\":176,\"cloudCover\":0.09,\"uvIndex\":0,\"visibility\":10,\"ozone\":260.16},{\"time\":1555077600,\"summary\":\"Clear\",\"icon\":\"clear-night\",\"precipIntensity\":0,\"precipProbability\":0,\"temperature\":88.35,\"apparentTemperature\":94.63,\"dewPoint\":71.27,\"humidity\":0.57,\"pressure\":1007.56,\"windSpeed\":12.02,\"windGust\":21.56,\"windBearing\":176,\"cloudCover\":0.09,\"uvIndex\":0,\"visibility\":10,\"ozone\":260.31},{\"time\":1555081200,\"summary\":\"Humid\",\"icon\":\"clear-night\",\"precipIntensity\":0,\"precipProbability\":0,\"temperature\":87.32,\"apparentTemperature\":94.42,\"dewPoint\":72.5,\"humidity\":0.62,\"pressure\":1008.27,\"windSpeed\":11.89,\"windGust\":21.86,\"windBearing\":178,\"cloudCover\":0.09,\"uvIndex\":0,\"visibility\":10,\"ozone\":260.46},{\"time\":1555084800,\"summary\":\"Humid\",\"icon\":\"clear-night\",\"precipIntensity\":0,\"precipProbability\":0,\"temperature\":86.66,\"apparentTemperature\":94.24,\"dewPoint\":73.24,\"humidity\":0.65,\"pressure\":1008.48,\"windSpeed\":11.47,\"windGust\":21.67,\"windBearing\":179,\"cloudCover\":0.09,\"uvIndex\":0,\"visibility\":10,\"ozone\":260.5},{\"time\":1555088400,\"summary\":\"Humid\",\"icon\":\"clear-night\",\"precipIntensity\":0,\"precipProbability\":0,\"temperature\":86,\"apparentTemperature\":93.79,\"dewPoint\":73.73,\"humidity\":0.67,\"pressure\":1008.24,\"windSpeed\":10.99,\"windGust\":21.02,\"windBearing\":179,\"cloudCover\":0.18,\"uvIndex\":0,\"visibility\":10,\"ozone\":260.5},{\"time\":1555092000,\"summary\":\"Humid\",\"icon\":\"clear-night\",\"precipIntensity\":0,\"precipProbability\":0,\"temperature\":85.45,\"apparentTemperature\":93.51,\"dewPoint\":74.26,\"humidity\":0.69,\"pressure\":1007.9,\"windSpeed\":10.6,\"windGust\":20.19,\"windBearing\":177,\"cloudCover\":0.23,\"uvIndex\":0,\"visibility\":10,\"ozone\":260.5},{\"time\":1555095600,\"summary\":\"Humid\",\"icon\":\"clear-night\",\"precipIntensity\":0,\"precipProbability\":0,\"temperature\":84.69,\"apparentTemperature\":92.94,\"dewPoint\":74.87,\"humidity\":0.73,\"pressure\":1007.44,\"windSpeed\":10.22,\"windGust\":19.08,\"windBearing\":175,\"cloudCover\":0.23,\"uvIndex\":0,\"visibility\":10,\"ozone\":260.31},{\"time\":1555099200,\"summary\":\"Humid and Partly Cloudy\",\"icon\":\"partly-cloudy-night\",\"precipIntensity\":0,\"precipProbability\":0,\"temperature\":83.72,\"apparentTemperature\":91.93,\"dewPoint\":75.46,\"humidity\":0.76,\"pressure\":1007.19,\"windSpeed\":9.84,\"windGust\":17.79,\"windBearing\":173,\"cloudCover\":0.33,\"uvIndex\":0,\"visibility\":10,\"ozone\":260.14},{\"time\":1555102800,\"summary\":\"Humid and Partly Cloudy\",\"icon\":\"partly-cloudy-night\",\"precipIntensity\":0,\"precipProbability\":0,\"temperature\":82.78,\"apparentTemperature\":90.69,\"dewPoint\":75.91,\"humidity\":0.8,\"pressure\":1007.24,\"windSpeed\":9.54,\"windGust\":16.78,\"windBearing\":172,\"cloudCover\":0.36,\"uvIndex\":0,\"visibility\":10,\"ozone\":259.93},{\"time\":1555106400,\"summary\":\"Humid and Partly Cloudy\",\"icon\":\"partly-cloudy-night\",\"precipIntensity\":0,\"precipProbability\":0,\"temperature\":82.34,\"apparentTemperature\":90.26,\"dewPoint\":76.37,\"humidity\":0.82,\"pressure\":1007.67,\"windSpeed\":9.5,\"windGust\":16.41,\"windBearing\":168,\"cloudCover\":0.34,\"uvIndex\":0,\"visibility\":10,\"ozone\":259.93},{\"time\":1555110000,\"summary\":\"Humid and Partly Cloudy\",\"icon\":\"partly-cloudy-night\",\"precipIntensity\":0,\"precipProbability\":0,\"temperature\":82.42,\"apparentTemperature\":90.68,\"dewPoint\":76.71,\"humidity\":0.83,\"pressure\":1008.3,\"windSpeed\":9.66,\"windGust\":16.31,\"windBearing\":164,\"cloudCover\":0.43,\"uvIndex\":0,\"visibility\":10,\"ozone\":259.95},{\"time\":1555113600,\"summary\":\"Humid and Partly Cloudy\",\"icon\":\"partly-cloudy-day\",\"precipIntensity\":0,\"precipProbability\":0,\"temperature\":83.19,\"apparentTemperature\":92.11,\"dewPoint\":76.72,\"humidity\":0.81,\"pressure\":1009.02,\"windSpeed\":10.11,\"windGust\":15.88,\"windBearing\":163,\"cloudCover\":0.5,\"uvIndex\":0,\"visibility\":10,\"ozone\":259.87},{\"time\":1555117200,\"summary\":\"Humid and Partly Cloudy\",\"icon\":\"partly-cloudy-day\",\"precipIntensity\":0,\"precipProbability\":0,\"temperature\":85.79,\"apparentTemperature\":95.78,\"dewPoint\":76.03,\"humidity\":0.73,\"pressure\":1009.79,\"windSpeed\":10.83,\"windGust\":14.7,\"windBearing\":170,\"cloudCover\":0.46,\"uvIndex\":2,\"visibility\":10,\"ozone\":259.71},{\"time\":1555120800,\"summary\":\"Humid and Partly Cloudy\",\"icon\":\"partly-cloudy-day\",\"precipIntensity\":0,\"precipProbability\":0,\"temperature\":89.13,\"apparentTemperature\":99.16,\"dewPoint\":74.77,\"humidity\":0.63,\"pressure\":1010.31,\"windSpeed\":11.42,\"windGust\":13.21,\"windBearing\":177,\"cloudCover\":0.42,\"uvIndex\":4,\"visibility\":10,\"ozone\":259.43},{\"time\":1555124400,\"summary\":\"Humid and Partly Cloudy\",\"icon\":\"partly-cloudy-day\",\"precipIntensity\":0,\"precipProbability\":0,\"temperature\":91.4,\"apparentTemperature\":100.52,\"dewPoint\":73.33,\"humidity\":0.56,\"pressure\":1010.31,\"windSpeed\":11.73,\"windGust\":11.96,\"windBearing\":184,\"cloudCover\":0.49,\"uvIndex\":7,\"visibility\":10,\"ozone\":259.06},{\"time\":1555128000,\"summary\":\"Partly Cloudy\",\"icon\":\"partly-cloudy-day\",\"precipIntensity\":0,\"precipProbability\":0,\"temperature\":93.24,\"apparentTemperature\":101.07,\"dewPoint\":71.66,\"humidity\":0.5,\"pressure\":1009.84,\"windSpeed\":11.85,\"windGust\":11.88,\"windBearing\":187,\"cloudCover\":0.39,\"uvIndex\":9,\"visibility\":10,\"ozone\":258.51},{\"time\":1555131600,\"summary\":\"Partly Cloudy\",\"icon\":\"partly-cloudy-day\",\"precipIntensity\":0,\"precipProbability\":0,\"temperature\":95.32,\"apparentTemperature\":101.89,\"dewPoint\":69.85,\"humidity\":0.44,\"pressure\":1009.09,\"windSpeed\":12.01,\"windGust\":12.08,\"windBearing\":187,\"cloudCover\":0.31,\"uvIndex\":11,\"visibility\":10,\"ozone\":257.86},{\"time\":1555135200,\"summary\":\"Partly Cloudy\",\"icon\":\"partly-cloudy-day\",\"precipIntensity\":0,\"precipProbability\":0,\"temperature\":96.6,\"apparentTemperature\":102.18,\"dewPoint\":68.41,\"humidity\":0.4,\"pressure\":1008.1,\"windSpeed\":12.2,\"windGust\":12.32,\"windBearing\":187,\"cloudCover\":0.31,\"uvIndex\":11,\"visibility\":10,\"ozone\":257.23},{\"time\":1555138800,\"summary\":\"Partly Cloudy\",\"icon\":\"partly-cloudy-day\",\"precipIntensity\":0,\"precipProbability\":0,\"temperature\":97.12,\"apparentTemperature\":101.99,\"dewPoint\":67.39,\"humidity\":0.38,\"pressure\":1007.06,\"windSpeed\":12.37,\"windGust\":12.51,\"windBearing\":185,\"cloudCover\":0.31,\"uvIndex\":9,\"visibility\":10,\"ozone\":256.54},{\"time\":1555142400,\"summary\":\"Partly Cloudy\",\"icon\":\"partly-cloudy-day\",\"precipIntensity\":0,\"precipProbability\":0,\"temperature\":96.79,\"apparentTemperature\":101.05,\"dewPoint\":66.72,\"humidity\":0.38,\"pressure\":1005.98,\"windSpeed\":12.52,\"windGust\":12.66,\"windBearing\":184,\"cloudCover\":0.33,\"uvIndex\":6,\"visibility\":10,\"ozone\":255.9},{\"time\":1555146000,\"summary\":\"Partly Cloudy\",\"icon\":\"partly-cloudy-day\",\"precipIntensity\":0,\"precipProbability\":0,\"temperature\":95.97,\"apparentTemperature\":100.02,\"dewPoint\":66.66,\"humidity\":0.39,\"pressure\":1005.33,\"windSpeed\":12.43,\"windGust\":12.89,\"windBearing\":183,\"cloudCover\":0.34,\"uvIndex\":3,\"visibility\":10,\"ozone\":255.5},{\"time\":1555149600,\"summary\":\"Partly Cloudy\",\"icon\":\"partly-cloudy-day\",\"precipIntensity\":0,\"precipProbability\":0,\"temperature\":94.82,\"apparentTemperature\":99.3,\"dewPoint\":67.53,\"humidity\":0.41,\"pressure\":1005.28,\"windSpeed\":12.14,\"windGust\":13.91,\"windBearing\":180,\"cloudCover\":0.34,\"uvIndex\":1,\"visibility\":10,\"ozone\":255.5},{\"time\":1555153200,\"summary\":\"Partly Cloudy\",\"icon\":\"partly-cloudy-day\",\"precipIntensity\":0,\"precipProbability\":0,\"temperature\":92.88,\"apparentTemperature\":98.23,\"dewPoint\":69.08,\"humidity\":0.46,\"pressure\":1005.79,\"windSpeed\":11.83,\"windGust\":16.17,\"windBearing\":178,\"cloudCover\":0.35,\"uvIndex\":0,\"visibility\":10,\"ozone\":255.7},{\"time\":1555156800,\"summary\":\"Partly Cloudy\",\"icon\":\"partly-cloudy-night\",\"precipIntensity\":0,\"precipProbability\":0,\"temperature\":90.72,\"apparentTemperature\":97.02,\"dewPoint\":70.7,\"humidity\":0.52,\"pressure\":1006.53,\"windSpeed\":11.45,\"windGust\":18.25,\"windBearing\":176,\"cloudCover\":0.35,\"uvIndex\":0,\"visibility\":10,\"ozone\":255.96},{\"time\":1555160400,\"summary\":\"Humid and Partly Cloudy\",\"icon\":\"partly-cloudy-night\",\"precipIntensity\":0,\"precipProbability\":0,\"temperature\":89.47,\"apparentTemperature\":97,\"dewPoint\":72.32,\"humidity\":0.57,\"pressure\":1007.53,\"windSpeed\":11.71,\"windGust\":19.97,\"windBearing\":176,\"cloudCover\":0.32,\"uvIndex\":0,\"visibility\":10,\"ozone\":256.03}]},\"flags\":{\"sources\":[\"cmc\",\"gfs\",\"icon\",\"isd\",\"madis\"],\"nearest-station\":5.878,\"units\":\"us\"},\"offset\":7}'"
      ]
     },
     "execution_count": 21,
     "metadata": {},
     "output_type": "execute_result"
    }
   ],
   "source": [
    "result.text"
   ]
  },
  {
   "cell_type": "code",
   "execution_count": null,
   "metadata": {},
   "outputs": [],
   "source": []
  }
 ],
 "metadata": {
  "kernelspec": {
   "display_name": "Python 3",
   "language": "python",
   "name": "python3"
  },
  "language_info": {
   "codemirror_mode": {
    "name": "ipython",
    "version": 3
   },
   "file_extension": ".py",
   "mimetype": "text/x-python",
   "name": "python",
   "nbconvert_exporter": "python",
   "pygments_lexer": "ipython3",
   "version": "3.6.7"
  }
 },
 "nbformat": 4,
 "nbformat_minor": 2
}
