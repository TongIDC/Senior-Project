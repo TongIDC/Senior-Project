{
 "cells": [
  {
   "cell_type": "code",
   "execution_count": 2,
   "metadata": {},
   "outputs": [],
   "source": [
    "import pandas as pd\n",
    "import numpy as np\n",
    "import matplotlib.pyplot as plt\n",
    "%matplotlib inline\n",
    "%config InlineBackend.figure_format='retina'"
   ]
  },
  {
   "cell_type": "code",
   "execution_count": null,
   "metadata": {},
   "outputs": [],
   "source": [
    "from gpiozero import LED"
   ]
  },
  {
   "cell_type": "code",
   "execution_count": 14,
   "metadata": {},
   "outputs": [],
   "source": [
    "import time"
   ]
  },
  {
   "cell_type": "code",
   "execution_count": 3,
   "metadata": {},
   "outputs": [],
   "source": [
    "from statsmodels.tsa.api import ExponentialSmoothing, SimpleExpSmoothing, Holt"
   ]
  },
  {
   "cell_type": "code",
   "execution_count": 4,
   "metadata": {},
   "outputs": [],
   "source": [
    "def dutycyclemode(rawdata,percent_batt):\n",
    "    import datetime\n",
    "    batt=percent_batt*96\n",
    "    Consumption_afterPV=[]\n",
    "    Charge=[]\n",
    "    for i in rawdata.index:\n",
    "        if rawdata.loc[i,'Generation']>=rawdata.loc[i,'Consumption']:\n",
    "            Charge.append(rawdata.loc[i,'Generation']-rawdata.loc[i,'Consumption'])\n",
    "            Consumption_afterPV.append(0)\n",
    "        else:\n",
    "            Charge.append(0)\n",
    "            Consumption_afterPV.append(rawdata.loc[i,'Consumption']-rawdata.loc[i,'Generation'])    \n",
    "\n",
    "    rawdata['Charge']=Charge\n",
    "    rawdata['Consumption_afterPV']=Consumption_afterPV\n",
    "\n",
    "    totalcharge=rawdata['Charge'].sum()/4\n",
    "\n",
    "    datanotstart=rawdata[rawdata.Generation==0]\n",
    "    dataonlystart=rawdata[rawdata.Generation!=0]\n",
    "    start_time=dataonlystart.index[0]\n",
    "    consumption_night=rawdata.loc[:start_time,'Consumption'].sum()/4\n",
    "\n",
    "    if totalcharge+batt>9600:\n",
    "        discharge_only_at_night=1\n",
    "        if batt-consumption_night>0.6*9600:\n",
    "            batt_start=batt-consumption_night\n",
    "        else:\n",
    "            batt_start=0.6*9600\n",
    "    else:\n",
    "        discharge_only_at_night=0\n",
    "        batt_start=percent_batt*96\n",
    "\n",
    "    contactor=[]\n",
    "\n",
    "    for i in rawdata[rawdata.index[0]:start_time].drop(start_time).index:\n",
    "        if discharge_only_at_night==1:\n",
    "            contactor.append(1)\n",
    "        else:\n",
    "            contactor.append(0)\n",
    "            \n",
    "    lastchargetime=rawdata[rawdata['Charge']!=0].index[-1]\n",
    "    stop_time=lastchargetime+pd.Timedelta('15 min')\n",
    "    remain=batt_start-9600*0.6\n",
    "    overcharge=batt_start+totalcharge-9600\n",
    "    \n",
    "    for i in rawdata[start_time:lastchargetime].index:\n",
    "        if rawdata.loc[i,'Charge'] > 0:\n",
    "            contactor.append(1)\n",
    "            remain += rawdata.loc[i,'Charge']/4\n",
    "        elif overcharge <= 0:\n",
    "            contactor.append(0)\n",
    "        elif remain==0:\n",
    "            contactor.append(0)\n",
    "        else:\n",
    "            contactor.append(1)\n",
    "            overcharge=overcharge-(rawdata.loc[i,'Consumption']-rawdata.loc[i,'Generation'])/4\n",
    "\n",
    "    for i in rawdata[stop_time:].index:\n",
    "        contactor.append(0)\n",
    "        \n",
    "    rawdata['Contactor']=contactor\n",
    "        \n",
    "    battleft=(percent_batt-60)*96*4\n",
    "    rawdata['Discharge']=rawdata['Contactor']*0\n",
    "    for i in rawdata.index:\n",
    "        if rawdata.loc[i,'Contactor']==1:\n",
    "            if rawdata.loc[i,'Charge'] != 0:\n",
    "                battleft=battleft+rawdata.loc[i,'Charge']\n",
    "            else:\n",
    "                if battleft >= rawdata.loc[i,'Consumption_afterPV']:\n",
    "                    rawdata.loc[i,'Discharge']= rawdata.loc[i,'Consumption_afterPV']\n",
    "                    battleft=battleft- rawdata.loc[i,'Consumption_afterPV']\n",
    "                else:\n",
    "                    rawdata.loc[i,'Discharge']=battleft\n",
    "                    battleft=0\n",
    "                    \n",
    "                    \n",
    "    checkcharge=(percent_batt-60)*96*4\n",
    "    cclist=[]\n",
    "    for i in rawdata.index:\n",
    "        if rawdata.loc[i,'Contactor']==1:\n",
    "            if rawdata.loc[i,'Charge'] != 0 :\n",
    "                if checkcharge+rawdata.loc[i,'Charge']>=40*96*4:\n",
    "                    rawdata.loc[i,'Charge']=40*96*4-checkcharge\n",
    "                    checkcharge=40*96*4\n",
    "                    cclist.append(checkcharge)\n",
    "                else:\n",
    "                    checkcharge+=rawdata.loc[i,'Charge']\n",
    "                    cclist.append(checkcharge)\n",
    "            elif rawdata.loc[i,'Discharge'] != 0:\n",
    "                if checkcharge-rawdata.loc[i,'Discharge']<=0:\n",
    "                    rawdata.loc[i,'Discharge']=checkcharge\n",
    "                    checkcharge=0\n",
    "                    cclist.append(checkcharge)\n",
    "                else:    \n",
    "                    checkcharge = checkcharge - rawdata.loc[i,'Discharge']\n",
    "                    cclist.append(checkcharge)\n",
    "            else:\n",
    "                cclist.append(checkcharge)\n",
    "        else:\n",
    "            cclist.append(checkcharge)\n",
    "    rawdata['Batt_above60%']=cclist\n",
    "    newpercent_batt=percent_batt+(rawdata.Charge.sum()-rawdata.Discharge.sum())/4/96\n",
    "    return [rawdata,newpercent_batt]"
   ]
  },
  {
   "cell_type": "markdown",
   "metadata": {},
   "source": [
    "## Create Predict_generation function name predictgen"
   ]
  },
  {
   "cell_type": "markdown",
   "metadata": {},
   "source": [
    "## PULL data consumption in list (total member = 30*96) name preconsumption"
   ]
  },
  {
   "cell_type": "code",
   "execution_count": null,
   "metadata": {},
   "outputs": [],
   "source": [
    "fit4 = ExponentialSmoothing(preconsumption, seasonal_periods=96, trend='add' ,seasonal='mul').fit()\n",
    "\n",
    "fit4.fittedvalues.plot(style='--', color='red')\n",
    "\n",
    "forecast=fit4.forecast(96)\n",
    "\n",
    "params=fit4.model.params\n",
    "consumption=[]\n",
    "for i in forecast:\n",
    "    consumption.append(i)"
   ]
  },
  {
   "cell_type": "markdown",
   "metadata": {},
   "source": [
    "## Create function predictcon"
   ]
  },
  {
   "cell_type": "code",
   "execution_count": null,
   "metadata": {},
   "outputs": [],
   "source": [
    "def createDF(predict_date,Consumption,Generation):\n",
    "    predictday=predict_date[0:4]+predict_date[5:7]+predict_date[8:10]\n",
    "    minu=[]\n",
    "    h=[]\n",
    "    m=[]\n",
    "    index=[]\n",
    "    Time=[]\n",
    "    for i in range(1,96):\n",
    "        minu.append(str((i%4)*15).zfill(2))\n",
    "        h.append(str(i//4).zfill(2))\n",
    "    for i in range(1,96):\n",
    "        index.append(predictday+h[i-1]+minu[i-1])\n",
    "    for i in index:\n",
    "        Time.append(pd.to_datetime(i))\n",
    "    Time.append(pd.to_datetime(predictday+'0000'))\n",
    "    len(Time)\n",
    "    DF = pd.DataFrame()\n",
    "    DF['Consumption']=Consumption\n",
    "    DF['Time']=Time\n",
    "    DF.set_index('Time',inplace=True)\n",
    "    DF['Generation']=Generation\n",
    "    return DF"
   ]
  },
  {
   "cell_type": "code",
   "execution_count": null,
   "metadata": {},
   "outputs": [],
   "source": [
    "led = LED(17)"
   ]
  },
  {
   "cell_type": "markdown",
   "metadata": {},
   "source": [
    "## initial_predict_date must be in the future"
   ]
  },
  {
   "cell_type": "code",
   "execution_count": 28,
   "metadata": {},
   "outputs": [],
   "source": [
    "initial_predict_date='2019-03-20'"
   ]
  },
  {
   "cell_type": "code",
   "execution_count": 30,
   "metadata": {},
   "outputs": [],
   "source": [
    "start=0\n",
    "while start==0:\n",
    "    if pd.datetime.now()>=pd.to_datetime(initial_predict_date+' 00:00:00'):\n",
    "        start=1\n",
    "        predict_date=initial_predict_date\n",
    "    \n",
    "    "
   ]
  },
  {
   "cell_type": "markdown",
   "metadata": {},
   "source": [
    "## PULL PERCENT BATT"
   ]
  },
  {
   "cell_type": "code",
   "execution_count": 43,
   "metadata": {
    "collapsed": true
   },
   "outputs": [
    {
     "ename": "NameError",
     "evalue": "name 'predictcon' is not defined",
     "output_type": "error",
     "traceback": [
      "\u001b[1;31m---------------------------------------------------------------------------\u001b[0m",
      "\u001b[1;31mNameError\u001b[0m                                 Traceback (most recent call last)",
      "\u001b[1;32m<ipython-input-43-b94894d0fa72>\u001b[0m in \u001b[0;36m<module>\u001b[1;34m\u001b[0m\n\u001b[0;32m      3\u001b[0m \u001b[1;32mwhile\u001b[0m \u001b[0mstop\u001b[0m\u001b[1;33m==\u001b[0m\u001b[1;36m0\u001b[0m\u001b[1;33m:\u001b[0m\u001b[1;33m\u001b[0m\u001b[1;33m\u001b[0m\u001b[0m\n\u001b[0;32m      4\u001b[0m     \u001b[0mpredict_date\u001b[0m\u001b[1;33m=\u001b[0m\u001b[0mstr\u001b[0m\u001b[1;33m(\u001b[0m\u001b[0mpd\u001b[0m\u001b[1;33m.\u001b[0m\u001b[0mdatetime\u001b[0m\u001b[1;33m.\u001b[0m\u001b[0mnow\u001b[0m\u001b[1;33m(\u001b[0m\u001b[1;33m)\u001b[0m\u001b[1;33m.\u001b[0m\u001b[0mdate\u001b[0m\u001b[1;33m(\u001b[0m\u001b[1;33m)\u001b[0m\u001b[1;33m)\u001b[0m\u001b[1;33m\u001b[0m\u001b[1;33m\u001b[0m\u001b[0m\n\u001b[1;32m----> 5\u001b[1;33m     \u001b[0mconsumption\u001b[0m\u001b[1;33m=\u001b[0m\u001b[0mpredictcon\u001b[0m\u001b[1;33m(\u001b[0m\u001b[0mpredict_date\u001b[0m\u001b[1;33m)\u001b[0m\u001b[1;33m\u001b[0m\u001b[1;33m\u001b[0m\u001b[0m\n\u001b[0m\u001b[0;32m      6\u001b[0m     \u001b[0mgeneration\u001b[0m\u001b[1;33m=\u001b[0m\u001b[0mpredictgen\u001b[0m\u001b[1;33m(\u001b[0m\u001b[0mpredict_date\u001b[0m\u001b[1;33m)\u001b[0m\u001b[1;33m\u001b[0m\u001b[1;33m\u001b[0m\u001b[0m\n\u001b[0;32m      7\u001b[0m     \u001b[0mdata\u001b[0m\u001b[1;33m=\u001b[0m\u001b[0mcreateDF\u001b[0m\u001b[1;33m(\u001b[0m\u001b[0mpredict_date\u001b[0m\u001b[1;33m,\u001b[0m\u001b[0mconsumption\u001b[0m\u001b[1;33m,\u001b[0m\u001b[0mgeneration\u001b[0m\u001b[1;33m)\u001b[0m\u001b[1;33m\u001b[0m\u001b[1;33m\u001b[0m\u001b[0m\n",
      "\u001b[1;31mNameError\u001b[0m: name 'predictcon' is not defined"
     ]
    }
   ],
   "source": [
    "stop=0\n",
    "contactor=[]\n",
    "while stop==0:\n",
    "    predict_date=str(pd.datetime.now().date())\n",
    "    consumption=predictcon(predict_date)\n",
    "    generation=predictgen(predict_date)\n",
    "    data=createDF(predict_date,consumption,generation)\n",
    "    # PULL PERCENT BATT in variable percent_batt\n",
    "    dutycycleinfo=dutycyclemode(data,percent_batt)[0]\n",
    "    data=dutycycleinfo[0]\n",
    "    # WRITE DATA TO mySQL\n",
    "    for i in data.index:\n",
    "        while pd.datetime.now()<i:\n",
    "            if data.loc(i,'Contactor')==1:\n",
    "                led.on()\n",
    "            else:\n",
    "                led.off()\n",
    "    "
   ]
  }
 ],
 "metadata": {
  "kernelspec": {
   "display_name": "Python 3",
   "language": "python",
   "name": "python3"
  },
  "language_info": {
   "codemirror_mode": {
    "name": "ipython",
    "version": 3
   },
   "file_extension": ".py",
   "mimetype": "text/x-python",
   "name": "python",
   "nbconvert_exporter": "python",
   "pygments_lexer": "ipython3",
   "version": "3.7.1"
  }
 },
 "nbformat": 4,
 "nbformat_minor": 2
}
